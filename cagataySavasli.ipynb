{
 "cells": [
  {
   "cell_type": "code",
   "execution_count": 1,
   "id": "874fbee7",
   "metadata": {},
   "outputs": [],
   "source": [
    "import findspark\n",
    "findspark.init('C:\\spark\\spark3')\n",
    "from pyspark.sql import SparkSession\n",
    "from pyspark.sql.functions import col\n",
    "from pyspark.sql.functions import monotonically_increasing_id, row_number\n",
    "from pyspark.sql import Window\n",
    "from pyspark.sql import functions as f\n",
    "spark = SparkSession.builder.appName('SparkSQL').getOrCreate()"
   ]
  },
  {
   "cell_type": "code",
   "execution_count": 2,
   "id": "76d4f4bb",
   "metadata": {},
   "outputs": [],
   "source": [
    "dataset = spark.read.format('csv').option('header','true').load('loan.csv')"
   ]
  },
  {
   "cell_type": "raw",
   "id": "0a640e30",
   "metadata": {},
   "source": [
    "df0 - <40\n",
    "df1 - 40-60\n",
    "df2 - 60-80\n",
    "df3 - 80-100\n",
    "df4 - >100\n",
    "Her bir gelir aralığı için bir tane dataframe oluşturacaz."
   ]
  },
  {
   "cell_type": "code",
   "execution_count": 3,
   "id": "8e1541e4",
   "metadata": {},
   "outputs": [],
   "source": [
    "dfOfIncDis = [\n",
    "dataset.filter(dataset['annual_inc'] < 40000),\n",
    "dataset.filter(dataset['annual_inc'] >= 40000 ).filter( dataset['annual_inc'] < 60000),\n",
    "dataset.filter(dataset['annual_inc'] >= 60000 ).filter( dataset['annual_inc'] < 80000),\n",
    "dataset.filter(dataset['annual_inc'] >= 80000 ).filter( dataset['annual_inc'] < 100000),\n",
    "dataset.filter(dataset['annual_inc'] >= 100000 )]\n",
    "report1 = []\n",
    "\n",
    "data = [[\"<40k\"],[\"40-60k\"],[\"60-80k\"],[\"80-100k\"],[\">100k\"]]\n",
    "column  = ['income range']\n",
    "firstColumn = spark.createDataFrame(data, column)"
   ]
  },
  {
   "cell_type": "code",
   "execution_count": 4,
   "id": "3ca4c07c",
   "metadata": {},
   "outputs": [],
   "source": [
    "for df in dfOfIncDis:\n",
    "    report1.append(df.agg({'loan_amnt': 'avg',\n",
    "                            'installment': 'avg'}))"
   ]
  },
  {
   "cell_type": "code",
   "execution_count": 5,
   "id": "bc3db631",
   "metadata": {},
   "outputs": [],
   "source": [
    "merged_df = report1[0].unionByName(report1[1]).unionByName(report1[2]).unionByName(report1[3]).unionByName(report1[4])"
   ]
  },
  {
   "cell_type": "code",
   "execution_count": 6,
   "id": "bbe13291",
   "metadata": {},
   "outputs": [],
   "source": [
    "merged_df = merged_df.select(col(\"avg(installment)\").alias(\"avg term\"), col(\"avg(loan_amnt)\").alias(\"avg amount\"))"
   ]
  },
  {
   "cell_type": "code",
   "execution_count": 7,
   "id": "50fb7cc7",
   "metadata": {},
   "outputs": [],
   "source": [
    "def mergeTwoDF(fst,sec):\n",
    "    fst = fst.withColumn(\"row_idx\", row_number().over(Window.orderBy(monotonically_increasing_id())))\n",
    "    sec = sec.withColumn(\"row_idx\", row_number().over(Window.orderBy(monotonically_increasing_id())))\n",
    "\n",
    "    merge = fst.join(sec, fst.row_idx == sec.row_idx).\\\n",
    "             drop(\"row_idx\")\n",
    "    return merge"
   ]
  },
  {
   "cell_type": "code",
   "execution_count": 8,
   "id": "8a96e653",
   "metadata": {},
   "outputs": [],
   "source": [
    "report_one = mergeTwoDF(firstColumn,merged_df)"
   ]
  },
  {
   "cell_type": "code",
   "execution_count": 9,
   "id": "2781b905",
   "metadata": {},
   "outputs": [],
   "source": [
    "allGrades = dataset.filter(dataset['loan_amnt'] > 1000).select('grade','loan_status')"
   ]
  },
  {
   "cell_type": "code",
   "execution_count": 10,
   "id": "48fc4eee",
   "metadata": {},
   "outputs": [],
   "source": [
    "fullyPaidGrades = dataset.filter(dataset['loan_amnt'] > 1000).filter(dataset['loan_status'] == \"Fully Paid\").select('grade','loan_status')"
   ]
  },
  {
   "cell_type": "code",
   "execution_count": 11,
   "id": "f25885b4",
   "metadata": {},
   "outputs": [],
   "source": [
    "allGrades = allGrades.groupBy('grade').count()"
   ]
  },
  {
   "cell_type": "code",
   "execution_count": 12,
   "id": "e0ab583a",
   "metadata": {},
   "outputs": [],
   "source": [
    "allGrades = allGrades.select(col(\"grade\").alias(\"grade\"),col(\"count\").alias(\"over_all\"))"
   ]
  },
  {
   "cell_type": "code",
   "execution_count": 13,
   "id": "d6005218",
   "metadata": {},
   "outputs": [],
   "source": [
    "fullyPaidGrades = fullyPaidGrades.groupBy('grade').count()"
   ]
  },
  {
   "cell_type": "code",
   "execution_count": 14,
   "id": "c3e5a59e",
   "metadata": {},
   "outputs": [],
   "source": [
    "report_two = mergeTwoDF(fullyPaidGrades,allGrades.select('over_all'))"
   ]
  },
  {
   "cell_type": "code",
   "execution_count": 15,
   "id": "41507258",
   "metadata": {},
   "outputs": [],
   "source": [
    "report_two = report_two.withColumn('percent', (f.col('count')*100)/f.col('over_all'))"
   ]
  },
  {
   "cell_type": "code",
   "execution_count": 16,
   "id": "289b7a40",
   "metadata": {},
   "outputs": [],
   "source": [
    "report_two = report_two.orderBy('grade', ascending=True).select('grade','percent')"
   ]
  },
  {
   "cell_type": "code",
   "execution_count": 17,
   "id": "174749c0",
   "metadata": {},
   "outputs": [
    {
     "name": "stdout",
     "output_type": "stream",
     "text": [
      "+------------+-----------------+------------------+\n",
      "|income range|         avg term|        avg amount|\n",
      "+------------+-----------------+------------------+\n",
      "|        <40k|256.3453876457621|  8047.88306162794|\n",
      "|      40-60k|360.7515654840996|12054.632067154263|\n",
      "|      60-80k|446.7894502010035|15234.963849034748|\n",
      "|     80-100k|518.6111203801014|17861.265347404074|\n",
      "|       >100k|614.1886198497335|21016.407509691584|\n",
      "+------------+-----------------+------------------+\n",
      "\n"
     ]
    }
   ],
   "source": [
    "report_one.show()"
   ]
  },
  {
   "cell_type": "code",
   "execution_count": 18,
   "id": "e9c6df1b",
   "metadata": {},
   "outputs": [
    {
     "name": "stdout",
     "output_type": "stream",
     "text": [
      "+-----+------------------+\n",
      "|grade|           percent|\n",
      "+-----+------------------+\n",
      "|    A|26.712629693467168|\n",
      "|    B|26.118271567017537|\n",
      "|    C|21.409498456664107|\n",
      "|    D|21.503465050842333|\n",
      "|    E| 18.25747908691337|\n",
      "|    F|20.497083659789325|\n",
      "|    G|20.864490242567935|\n",
      "+-----+------------------+\n",
      "\n"
     ]
    }
   ],
   "source": [
    "report_two.show()"
   ]
  },
  {
   "cell_type": "code",
   "execution_count": null,
   "id": "eb8603df",
   "metadata": {},
   "outputs": [],
   "source": []
  }
 ],
 "metadata": {
  "kernelspec": {
   "display_name": "Python 3",
   "language": "python",
   "name": "python3"
  },
  "language_info": {
   "codemirror_mode": {
    "name": "ipython",
    "version": 3
   },
   "file_extension": ".py",
   "mimetype": "text/x-python",
   "name": "python",
   "nbconvert_exporter": "python",
   "pygments_lexer": "ipython3",
   "version": "3.8.8"
  }
 },
 "nbformat": 4,
 "nbformat_minor": 5
}
